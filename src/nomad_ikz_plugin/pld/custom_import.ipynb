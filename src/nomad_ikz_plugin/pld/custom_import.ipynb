{
 "cells": [
  {
   "cell_type": "code",
   "execution_count": 1,
   "metadata": {},
   "outputs": [],
   "source": [
    "import pandas as pd"
   ]
  },
  {
   "cell_type": "code",
   "execution_count": null,
   "metadata": {},
   "outputs": [],
   "source": [
    "excel_file = 'INSERT FILE PATH HERE'\n",
    "# excel_file = '/home/.../Downloads/SampleOverview.-.Kopie.xlsx'"
   ]
  },
  {
   "cell_type": "code",
   "execution_count": 3,
   "metadata": {},
   "outputs": [
    {
     "name": "stdout",
     "output_type": "stream",
     "text": [
      "Able to process 338/358 rows\n"
     ]
    },
    {
     "name": "stderr",
     "output_type": "stream",
     "text": [
      "/tmp/ipykernel_49603/554015205.py:5: SettingWithCopyWarning: \n",
      "A value is trying to be set on a copy of a slice from a DataFrame.\n",
      "Try using .loc[row_indexer,col_indexer] = value instead\n",
      "\n",
      "See the caveats in the documentation: https://pandas.pydata.org/pandas-docs/stable/user_guide/indexing.html#returning-a-view-versus-a-copy\n",
      "  df_trimmed['Log Name'] = df_trimmed['Log Name'].fillna('x')\n"
     ]
    }
   ],
   "source": [
    "df = pd.read_excel(excel_file)\n",
    "# Remove trailing rows where all values are NaN or NaT\n",
    "df_trimmed = df.loc[:df.dropna(how='all').index[-1]]\n",
    "# Fill NaN values with 'x'\n",
    "df_trimmed['Log Name'] = df_trimmed['Log Name'].fillna('x')\n",
    "# Split the DataFrame\n",
    "df_log_name_empty_or_x = df_trimmed[df_trimmed['Log Name'].isin(['', 'x'])]\n",
    "df_sub_ref_nan = df_trimmed[df_trimmed['Sub ref'].isna()]\n",
    "df_rest = df_trimmed[~df_trimmed['Log Name'].isin(['', 'x']) & df_trimmed['Sub ref'].notna()]\n",
    "\n",
    "# Save the unprocessed DataFrames to Excel files\n",
    "df_log_name_empty_or_x.to_excel('df_log_name_empty_or_x.xlsx', index=False)\n",
    "df_sub_ref_nan.to_excel('df_sub_ref_nan.xlsx', index=False)\n",
    "\n",
    "print(f'Able to process {len(df_rest)}/{len(df_trimmed)} rows')"
   ]
  },
  {
   "cell_type": "code",
   "execution_count": 4,
   "metadata": {},
   "outputs": [
    {
     "name": "stderr",
     "output_type": "stream",
     "text": [
      "/tmp/ipykernel_49603/2114905016.py:2: SettingWithCopyWarning: \n",
      "A value is trying to be set on a copy of a slice from a DataFrame.\n",
      "Try using .loc[row_indexer,col_indexer] = value instead\n",
      "\n",
      "See the caveats in the documentation: https://pandas.pydata.org/pandas-docs/stable/user_guide/indexing.html#returning-a-view-versus-a-copy\n",
      "  df_rest['dlog'] = df_rest['Log Name'].str.replace('.elog', '.dlog')\n"
     ]
    }
   ],
   "source": [
    "# Add a new column with '.elog' replaced by '.dlog'\n",
    "df_rest['dlog'] = df_rest['Log Name'].str.replace('.elog', '.dlog')"
   ]
  },
  {
   "cell_type": "code",
   "execution_count": 22,
   "metadata": {},
   "outputs": [],
   "source": [
    "def to_number_or_none(value, factor=1.0):\n",
    "    try:\n",
    "        if pd.isna(value):\n",
    "            return None\n",
    "        return float(value) * factor\n",
    "    except ValueError:\n",
    "        return None"
   ]
  },
  {
   "cell_type": "code",
   "execution_count": null,
   "metadata": {},
   "outputs": [],
   "source": [
    "# List to store JSON objects\n",
    "json_list = []\n",
    "\n",
    "# Iterate over the DataFrame\n",
    "for index, row in df_rest.iterrows():\n",
    "    targets = []\n",
    "    rms = []\n",
    "    thicknesses = []\n",
    "    distances = []\n",
    "    if row['Target ref'] != '-':\n",
    "        targets.append(row['Target ref'].replace('\"', ''))\n",
    "        thicknesses.append(to_number_or_none(row['d(SAO) \\n[nm]']))\n",
    "        distances.append(to_number_or_none(row['Target distance1\\n[mm]'], factor=1e-3))\n",
    "    if row['Target2 ref'] != '-':\n",
    "        targets.append(row['Target2 ref'].replace('\"', ''))\n",
    "        thicknesses.append(to_number_or_none(row['d(CL) \\n[nm]']))\n",
    "        distances.append(to_number_or_none(row['Target distance2\\n[mm]'], factor=1e-3))\n",
    "    if len(targets) == 2:\n",
    "        rms.append(None)\n",
    "    rms.append(to_number_or_none(row['RMS\\n[pm]']))\n",
    "    json_obj = {\n",
    "        \"data\": {\n",
    "            \"m_def\": \"nomad_ikz_plugin.pld.schema.IKZPulsedLaserDeposition\",\n",
    "            \"name\": row['ID\\n'],\n",
    "            \"substrate\": row['Sub ref'].replace('\"', ''),\n",
    "            \"targets\": targets,\n",
    "            \"data_log\": row['dlog'],\n",
    "            \"recipe_log\": row['Log Name'],\n",
    "            \"target_distances\": distances,\n",
    "            \"_rms\": rms,\n",
    "            \"_thicknesses\": thicknesses,\n",
    "        }\n",
    "    }\n",
    "    json_list.append(json_obj)"
   ]
  },
  {
   "cell_type": "code",
   "execution_count": 30,
   "metadata": {},
   "outputs": [],
   "source": [
    "import json\n",
    "import os\n",
    "import zipfile\n",
    "\n",
    "# Create JSON files and zip them together\n",
    "with zipfile.ZipFile('json_files.zip', 'w') as zipf:\n",
    "    for json_obj in json_list:\n",
    "        file_name = f'{json_obj[\"data\"][\"name\"]}.archive.json'\n",
    "        with open(file_name, 'w') as json_file:\n",
    "            json.dump(json_obj, json_file, indent=4)\n",
    "        zipf.write(file_name)\n",
    "        os.remove(file_name)"
   ]
  }
 ],
 "metadata": {
  "kernelspec": {
   "display_name": ".venv",
   "language": "python",
   "name": "python3"
  },
  "language_info": {
   "codemirror_mode": {
    "name": "ipython",
    "version": 3
   },
   "file_extension": ".py",
   "mimetype": "text/x-python",
   "name": "python",
   "nbconvert_exporter": "python",
   "pygments_lexer": "ipython3",
   "version": "3.12.7"
  }
 },
 "nbformat": 4,
 "nbformat_minor": 2
}
